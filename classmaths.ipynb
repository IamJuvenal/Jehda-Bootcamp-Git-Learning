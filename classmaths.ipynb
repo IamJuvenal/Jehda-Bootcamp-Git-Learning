{
 "cells": [
  {
   "cell_type": "code",
   "execution_count": 17,
   "metadata": {},
   "outputs": [],
   "source": [
    "import math\n",
    "\n",
    "class Math():\n",
    "    def racine_caree(self, number):\n",
    "        racine = math.sqrt(number)\n",
    "        print(racine)\n",
    "        return racine\n",
    "    def moyenne(self, list_denombre):\n",
    "        moyenne = sum(list_denombre) / len(list_denombre)\n",
    "        print(moyenne)\n",
    "        return moyenne\n",
    "    def est_pair(self, nombre):\n",
    "        if nombre%2 == 0:\n",
    "            print('{} est pair').format(nombre)\n",
    "        return True\n",
    "    def somme_totale(self, list_denombre):\n",
    "        somme = sum(list_denombre)\n",
    "        print(somme)\n",
    "        return somme\n",
    "\n"
   ]
  },
  {
   "cell_type": "code",
   "execution_count": 19,
   "metadata": {},
   "outputs": [
    {
     "name": "stdout",
     "output_type": "stream",
     "text": [
      "25.0\n"
     ]
    },
    {
     "data": {
      "text/plain": [
       "25.0"
      ]
     },
     "execution_count": 19,
     "metadata": {},
     "output_type": "execute_result"
    }
   ],
   "source": [
    "calculatrice = Math()\n",
    "calculatrice.moyenne([25])"
   ]
  },
  {
   "cell_type": "code",
   "execution_count": 35,
   "metadata": {},
   "outputs": [],
   "source": [
    "class Imputer:\n",
    "    def __init__(self):\n",
    "        self.alist = []\n",
    "\n",
    "    def remplaceur(self, alist):\n",
    "        for i in range(len(alist)):\n",
    "            if alist[i] == {}:\n",
    "                # Remplacez l'élément vide par la moyenne de la liste\n",
    "                alist[i] = sum(alist) / len(alist)\n",
    "        print(alist)\n",
    "        return alist\n",
    "\n",
    "\n",
    "\n"
   ]
  },
  {
   "cell_type": "code",
   "execution_count": 36,
   "metadata": {},
   "outputs": [],
   "source": [
    "caract = Imputer()\n",
    "caract.remplaceur([1, 2, 3])"
   ]
  }
 ],
 "metadata": {
  "kernelspec": {
   "display_name": "Python 3",
   "language": "python",
   "name": "python3"
  },
  "language_info": {
   "codemirror_mode": {
    "name": "ipython",
    "version": 3
   },
   "file_extension": ".py",
   "mimetype": "text/x-python",
   "name": "python",
   "nbconvert_exporter": "python",
   "pygments_lexer": "ipython3",
   "version": "3.12.3"
  }
 },
 "nbformat": 4,
 "nbformat_minor": 2
}
